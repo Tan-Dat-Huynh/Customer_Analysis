{
  "nbformat": 4,
  "nbformat_minor": 2,
  "metadata": {
    "colab": {
      "name": "Customer-Analysis.ipynb",
      "provenance": [],
      "collapsed_sections": [],
      "toc_visible": true
    },
    "kernelspec": {
      "name": "python3",
      "display_name": "Python 3"
    },
    "language_info": {
      "name": "python"
    }
  },
  "cells": [
    {
      "cell_type": "markdown",
      "source": [
        "# Inspiration\n",
        "Understand customer demographics and buying behavior. Use predictive analytics to analyze the most profitable customers and how they interact. Take targeted actions to increase profitable customer response, retention, and growth."
      ],
      "metadata": {
        "id": "7c093CUSn8eo"
      }
    },
    {
      "cell_type": "markdown",
      "source": [
        "# Data Description\n",
        "\n",
        "We can dowload the dataset at [Kaggle](https://www.kaggle.com/pankajjsh06/ibm-watson-marketing-customer-value-data)"
      ],
      "metadata": {
        "id": "Afwuh3uUpEdy"
      }
    },
    {
      "cell_type": "markdown",
      "source": [
        "# Overview\n",
        "\n",
        "**1. Understand the nature of data (Histograms, boxplots, etc.)**\n",
        "\n",
        "**2. Data Exploration**\n",
        "\n",
        "**3. Data Cleaning**\n",
        "\n",
        "**4. Customer Analysis**"
      ],
      "metadata": {
        "id": "XJrxprTTpLxG"
      }
    },
    {
      "cell_type": "markdown",
      "source": [
        "# Load data"
      ],
      "metadata": {
        "id": "czxRnBIUparK"
      }
    },
    {
      "cell_type": "code",
      "execution_count": null,
      "source": [
        "# imports\r\n",
        "import pandas as pd\r\n",
        "import matplotlib.pyplot as plt\r\n",
        "import seaborn as sns\r\n",
        "import numpy as np"
      ],
      "outputs": [],
      "metadata": {
        "id": "EVCFcLtjpg0I"
      }
    },
    {
      "cell_type": "code",
      "execution_count": null,
      "source": [
        "# load data\r\n",
        "df = pd.read_csv('WA_Fn-UseC_-Marketing-Customer-Value-Analysis.csv')\r\n",
        "df.head()"
      ],
      "outputs": [
        {
          "output_type": "execute_result",
          "data": {
            "text/html": [
              "<div>\n",
              "<style scoped>\n",
              "    .dataframe tbody tr th:only-of-type {\n",
              "        vertical-align: middle;\n",
              "    }\n",
              "\n",
              "    .dataframe tbody tr th {\n",
              "        vertical-align: top;\n",
              "    }\n",
              "\n",
              "    .dataframe thead th {\n",
              "        text-align: right;\n",
              "    }\n",
              "</style>\n",
              "<table border=\"1\" class=\"dataframe\">\n",
              "  <thead>\n",
              "    <tr style=\"text-align: right;\">\n",
              "      <th></th>\n",
              "      <th>Customer</th>\n",
              "      <th>State</th>\n",
              "      <th>Customer Lifetime Value</th>\n",
              "      <th>Response</th>\n",
              "      <th>Coverage</th>\n",
              "      <th>Education</th>\n",
              "      <th>Effective To Date</th>\n",
              "      <th>EmploymentStatus</th>\n",
              "      <th>Gender</th>\n",
              "      <th>Income</th>\n",
              "      <th>Location Code</th>\n",
              "      <th>Marital Status</th>\n",
              "      <th>Monthly Premium Auto</th>\n",
              "      <th>Months Since Last Claim</th>\n",
              "      <th>Months Since Policy Inception</th>\n",
              "      <th>Number of Open Complaints</th>\n",
              "      <th>Number of Policies</th>\n",
              "      <th>Policy Type</th>\n",
              "      <th>Policy</th>\n",
              "      <th>Renew Offer Type</th>\n",
              "      <th>Sales Channel</th>\n",
              "      <th>Total Claim Amount</th>\n",
              "      <th>Vehicle Class</th>\n",
              "      <th>Vehicle Size</th>\n",
              "    </tr>\n",
              "  </thead>\n",
              "  <tbody>\n",
              "    <tr>\n",
              "      <th>0</th>\n",
              "      <td>BU79786</td>\n",
              "      <td>Washington</td>\n",
              "      <td>2763.519279</td>\n",
              "      <td>No</td>\n",
              "      <td>Basic</td>\n",
              "      <td>Bachelor</td>\n",
              "      <td>2/24/11</td>\n",
              "      <td>Employed</td>\n",
              "      <td>F</td>\n",
              "      <td>56274</td>\n",
              "      <td>Suburban</td>\n",
              "      <td>Married</td>\n",
              "      <td>69</td>\n",
              "      <td>32</td>\n",
              "      <td>5</td>\n",
              "      <td>0</td>\n",
              "      <td>1</td>\n",
              "      <td>Corporate Auto</td>\n",
              "      <td>Corporate L3</td>\n",
              "      <td>Offer1</td>\n",
              "      <td>Agent</td>\n",
              "      <td>384.811147</td>\n",
              "      <td>Two-Door Car</td>\n",
              "      <td>Medsize</td>\n",
              "    </tr>\n",
              "    <tr>\n",
              "      <th>1</th>\n",
              "      <td>QZ44356</td>\n",
              "      <td>Arizona</td>\n",
              "      <td>6979.535903</td>\n",
              "      <td>No</td>\n",
              "      <td>Extended</td>\n",
              "      <td>Bachelor</td>\n",
              "      <td>1/31/11</td>\n",
              "      <td>Unemployed</td>\n",
              "      <td>F</td>\n",
              "      <td>0</td>\n",
              "      <td>Suburban</td>\n",
              "      <td>Single</td>\n",
              "      <td>94</td>\n",
              "      <td>13</td>\n",
              "      <td>42</td>\n",
              "      <td>0</td>\n",
              "      <td>8</td>\n",
              "      <td>Personal Auto</td>\n",
              "      <td>Personal L3</td>\n",
              "      <td>Offer3</td>\n",
              "      <td>Agent</td>\n",
              "      <td>1131.464935</td>\n",
              "      <td>Four-Door Car</td>\n",
              "      <td>Medsize</td>\n",
              "    </tr>\n",
              "    <tr>\n",
              "      <th>2</th>\n",
              "      <td>AI49188</td>\n",
              "      <td>Nevada</td>\n",
              "      <td>12887.431650</td>\n",
              "      <td>No</td>\n",
              "      <td>Premium</td>\n",
              "      <td>Bachelor</td>\n",
              "      <td>2/19/11</td>\n",
              "      <td>Employed</td>\n",
              "      <td>F</td>\n",
              "      <td>48767</td>\n",
              "      <td>Suburban</td>\n",
              "      <td>Married</td>\n",
              "      <td>108</td>\n",
              "      <td>18</td>\n",
              "      <td>38</td>\n",
              "      <td>0</td>\n",
              "      <td>2</td>\n",
              "      <td>Personal Auto</td>\n",
              "      <td>Personal L3</td>\n",
              "      <td>Offer1</td>\n",
              "      <td>Agent</td>\n",
              "      <td>566.472247</td>\n",
              "      <td>Two-Door Car</td>\n",
              "      <td>Medsize</td>\n",
              "    </tr>\n",
              "    <tr>\n",
              "      <th>3</th>\n",
              "      <td>WW63253</td>\n",
              "      <td>California</td>\n",
              "      <td>7645.861827</td>\n",
              "      <td>No</td>\n",
              "      <td>Basic</td>\n",
              "      <td>Bachelor</td>\n",
              "      <td>1/20/11</td>\n",
              "      <td>Unemployed</td>\n",
              "      <td>M</td>\n",
              "      <td>0</td>\n",
              "      <td>Suburban</td>\n",
              "      <td>Married</td>\n",
              "      <td>106</td>\n",
              "      <td>18</td>\n",
              "      <td>65</td>\n",
              "      <td>0</td>\n",
              "      <td>7</td>\n",
              "      <td>Corporate Auto</td>\n",
              "      <td>Corporate L2</td>\n",
              "      <td>Offer1</td>\n",
              "      <td>Call Center</td>\n",
              "      <td>529.881344</td>\n",
              "      <td>SUV</td>\n",
              "      <td>Medsize</td>\n",
              "    </tr>\n",
              "    <tr>\n",
              "      <th>4</th>\n",
              "      <td>HB64268</td>\n",
              "      <td>Washington</td>\n",
              "      <td>2813.692575</td>\n",
              "      <td>No</td>\n",
              "      <td>Basic</td>\n",
              "      <td>Bachelor</td>\n",
              "      <td>2/3/11</td>\n",
              "      <td>Employed</td>\n",
              "      <td>M</td>\n",
              "      <td>43836</td>\n",
              "      <td>Rural</td>\n",
              "      <td>Single</td>\n",
              "      <td>73</td>\n",
              "      <td>12</td>\n",
              "      <td>44</td>\n",
              "      <td>0</td>\n",
              "      <td>1</td>\n",
              "      <td>Personal Auto</td>\n",
              "      <td>Personal L1</td>\n",
              "      <td>Offer1</td>\n",
              "      <td>Agent</td>\n",
              "      <td>138.130879</td>\n",
              "      <td>Four-Door Car</td>\n",
              "      <td>Medsize</td>\n",
              "    </tr>\n",
              "  </tbody>\n",
              "</table>\n",
              "</div>"
            ],
            "text/plain": [
              "  Customer       State  ...  Vehicle Class Vehicle Size\n",
              "0  BU79786  Washington  ...   Two-Door Car      Medsize\n",
              "1  QZ44356     Arizona  ...  Four-Door Car      Medsize\n",
              "2  AI49188      Nevada  ...   Two-Door Car      Medsize\n",
              "3  WW63253  California  ...            SUV      Medsize\n",
              "4  HB64268  Washington  ...  Four-Door Car      Medsize\n",
              "\n",
              "[5 rows x 24 columns]"
            ]
          },
          "metadata": {},
          "execution_count": 131
        }
      ],
      "metadata": {
        "id": "6mDxcVCKny9b",
        "colab": {
          "base_uri": "https://localhost:8080/",
          "height": 425
        },
        "outputId": "5b7fb788-f4e7-4914-8135-90b88da8fd51"
      }
    },
    {
      "cell_type": "code",
      "execution_count": null,
      "source": [
        "# quickly look at our data fields, datatype and null values\r\n",
        "df.info()"
      ],
      "outputs": [
        {
          "output_type": "stream",
          "name": "stdout",
          "text": [
            "<class 'pandas.core.frame.DataFrame'>\n",
            "RangeIndex: 9134 entries, 0 to 9133\n",
            "Data columns (total 24 columns):\n",
            " #   Column                         Non-Null Count  Dtype  \n",
            "---  ------                         --------------  -----  \n",
            " 0   Customer                       9134 non-null   object \n",
            " 1   State                          9134 non-null   object \n",
            " 2   Customer Lifetime Value        9134 non-null   float64\n",
            " 3   Response                       9134 non-null   object \n",
            " 4   Coverage                       9134 non-null   object \n",
            " 5   Education                      9134 non-null   object \n",
            " 6   Effective To Date              9134 non-null   object \n",
            " 7   EmploymentStatus               9134 non-null   object \n",
            " 8   Gender                         9134 non-null   object \n",
            " 9   Income                         9134 non-null   int64  \n",
            " 10  Location Code                  9134 non-null   object \n",
            " 11  Marital Status                 9134 non-null   object \n",
            " 12  Monthly Premium Auto           9134 non-null   int64  \n",
            " 13  Months Since Last Claim        9134 non-null   int64  \n",
            " 14  Months Since Policy Inception  9134 non-null   int64  \n",
            " 15  Number of Open Complaints      9134 non-null   int64  \n",
            " 16  Number of Policies             9134 non-null   int64  \n",
            " 17  Policy Type                    9134 non-null   object \n",
            " 18  Policy                         9134 non-null   object \n",
            " 19  Renew Offer Type               9134 non-null   object \n",
            " 20  Sales Channel                  9134 non-null   object \n",
            " 21  Total Claim Amount             9134 non-null   float64\n",
            " 22  Vehicle Class                  9134 non-null   object \n",
            " 23  Vehicle Size                   9134 non-null   object \n",
            "dtypes: float64(2), int64(6), object(16)\n",
            "memory usage: 1.7+ MB\n"
          ]
        }
      ],
      "metadata": {
        "colab": {
          "base_uri": "https://localhost:8080/"
        },
        "id": "O34JZAVqpvga",
        "outputId": "71a34d50-394c-405a-b15e-8c7ea0ce8d4e"
      }
    },
    {
      "cell_type": "markdown",
      "source": [
        "# Light Data Exploration"
      ],
      "metadata": {
        "id": "6loBYTsgrLyM"
      }
    },
    {
      "cell_type": "code",
      "execution_count": null,
      "source": [
        "# check duplicated customers\n",
        "print(any(df['Customer'].duplicated()))"
      ],
      "outputs": [
        {
          "output_type": "stream",
          "name": "stdout",
          "text": [
            "False\n"
          ]
        }
      ],
      "metadata": {
        "colab": {
          "base_uri": "https://localhost:8080/"
        },
        "id": "rIKVqpVxrLUe",
        "outputId": "32eb99d6-97f8-41bc-f18c-fb310935c90d"
      }
    },
    {
      "cell_type": "code",
      "execution_count": null,
      "source": [
        "# to better understand numeric data, \n",
        "# we uses .describe() method \n",
        "# which gives us understanding of the central tendencies of the data\n",
        "df.describe()"
      ],
      "outputs": [
        {
          "output_type": "execute_result",
          "data": {
            "text/html": [
              "<div>\n",
              "<style scoped>\n",
              "    .dataframe tbody tr th:only-of-type {\n",
              "        vertical-align: middle;\n",
              "    }\n",
              "\n",
              "    .dataframe tbody tr th {\n",
              "        vertical-align: top;\n",
              "    }\n",
              "\n",
              "    .dataframe thead th {\n",
              "        text-align: right;\n",
              "    }\n",
              "</style>\n",
              "<table border=\"1\" class=\"dataframe\">\n",
              "  <thead>\n",
              "    <tr style=\"text-align: right;\">\n",
              "      <th></th>\n",
              "      <th>Customer Lifetime Value</th>\n",
              "      <th>Income</th>\n",
              "      <th>Monthly Premium Auto</th>\n",
              "      <th>Months Since Last Claim</th>\n",
              "      <th>Months Since Policy Inception</th>\n",
              "      <th>Number of Open Complaints</th>\n",
              "      <th>Number of Policies</th>\n",
              "      <th>Total Claim Amount</th>\n",
              "    </tr>\n",
              "  </thead>\n",
              "  <tbody>\n",
              "    <tr>\n",
              "      <th>count</th>\n",
              "      <td>9134.000000</td>\n",
              "      <td>9134.000000</td>\n",
              "      <td>9134.000000</td>\n",
              "      <td>9134.000000</td>\n",
              "      <td>9134.000000</td>\n",
              "      <td>9134.000000</td>\n",
              "      <td>9134.000000</td>\n",
              "      <td>9134.000000</td>\n",
              "    </tr>\n",
              "    <tr>\n",
              "      <th>mean</th>\n",
              "      <td>8004.940475</td>\n",
              "      <td>37657.380009</td>\n",
              "      <td>93.219291</td>\n",
              "      <td>15.097000</td>\n",
              "      <td>48.064594</td>\n",
              "      <td>0.384388</td>\n",
              "      <td>2.966170</td>\n",
              "      <td>434.088794</td>\n",
              "    </tr>\n",
              "    <tr>\n",
              "      <th>std</th>\n",
              "      <td>6870.967608</td>\n",
              "      <td>30379.904734</td>\n",
              "      <td>34.407967</td>\n",
              "      <td>10.073257</td>\n",
              "      <td>27.905991</td>\n",
              "      <td>0.910384</td>\n",
              "      <td>2.390182</td>\n",
              "      <td>290.500092</td>\n",
              "    </tr>\n",
              "    <tr>\n",
              "      <th>min</th>\n",
              "      <td>1898.007675</td>\n",
              "      <td>0.000000</td>\n",
              "      <td>61.000000</td>\n",
              "      <td>0.000000</td>\n",
              "      <td>0.000000</td>\n",
              "      <td>0.000000</td>\n",
              "      <td>1.000000</td>\n",
              "      <td>0.099007</td>\n",
              "    </tr>\n",
              "    <tr>\n",
              "      <th>25%</th>\n",
              "      <td>3994.251794</td>\n",
              "      <td>0.000000</td>\n",
              "      <td>68.000000</td>\n",
              "      <td>6.000000</td>\n",
              "      <td>24.000000</td>\n",
              "      <td>0.000000</td>\n",
              "      <td>1.000000</td>\n",
              "      <td>272.258244</td>\n",
              "    </tr>\n",
              "    <tr>\n",
              "      <th>50%</th>\n",
              "      <td>5780.182197</td>\n",
              "      <td>33889.500000</td>\n",
              "      <td>83.000000</td>\n",
              "      <td>14.000000</td>\n",
              "      <td>48.000000</td>\n",
              "      <td>0.000000</td>\n",
              "      <td>2.000000</td>\n",
              "      <td>383.945434</td>\n",
              "    </tr>\n",
              "    <tr>\n",
              "      <th>75%</th>\n",
              "      <td>8962.167041</td>\n",
              "      <td>62320.000000</td>\n",
              "      <td>109.000000</td>\n",
              "      <td>23.000000</td>\n",
              "      <td>71.000000</td>\n",
              "      <td>0.000000</td>\n",
              "      <td>4.000000</td>\n",
              "      <td>547.514839</td>\n",
              "    </tr>\n",
              "    <tr>\n",
              "      <th>max</th>\n",
              "      <td>83325.381190</td>\n",
              "      <td>99981.000000</td>\n",
              "      <td>298.000000</td>\n",
              "      <td>35.000000</td>\n",
              "      <td>99.000000</td>\n",
              "      <td>5.000000</td>\n",
              "      <td>9.000000</td>\n",
              "      <td>2893.239678</td>\n",
              "    </tr>\n",
              "  </tbody>\n",
              "</table>\n",
              "</div>"
            ],
            "text/plain": [
              "       Customer Lifetime Value  ...  Total Claim Amount\n",
              "count              9134.000000  ...         9134.000000\n",
              "mean               8004.940475  ...          434.088794\n",
              "std                6870.967608  ...          290.500092\n",
              "min                1898.007675  ...            0.099007\n",
              "25%                3994.251794  ...          272.258244\n",
              "50%                5780.182197  ...          383.945434\n",
              "75%                8962.167041  ...          547.514839\n",
              "max               83325.381190  ...         2893.239678\n",
              "\n",
              "[8 rows x 8 columns]"
            ]
          },
          "metadata": {},
          "execution_count": 134
        }
      ],
      "metadata": {
        "colab": {
          "base_uri": "https://localhost:8080/",
          "height": 312
        },
        "id": "cK_uaDr-rClo",
        "outputId": "d1f7bca2-a13c-4e86-8ee2-1eb414f10a47"
      }
    },
    {
      "cell_type": "code",
      "execution_count": null,
      "source": [
        "# quickly get numeric columns\n",
        "df.describe().columns"
      ],
      "outputs": [
        {
          "output_type": "execute_result",
          "data": {
            "text/plain": [
              "Index(['Customer Lifetime Value', 'Income', 'Monthly Premium Auto',\n",
              "       'Months Since Last Claim', 'Months Since Policy Inception',\n",
              "       'Number of Open Complaints', 'Number of Policies',\n",
              "       'Total Claim Amount'],\n",
              "      dtype='object')"
            ]
          },
          "metadata": {},
          "execution_count": 135
        }
      ],
      "metadata": {
        "colab": {
          "base_uri": "https://localhost:8080/"
        },
        "id": "GPTmO4Y-rWMq",
        "outputId": "cc6a31a6-70ca-4fbb-8f1b-b4d1b4b06888"
      }
    },
    {
      "cell_type": "code",
      "execution_count": null,
      "source": [
        "# look at numeric and categorical variable separately\n",
        "df_num = df[df.describe().columns]\n",
        "df_cat = df[\n",
        "            df.columns.difference(\n",
        "                list(df_num.columns) + ['Customer', 'Effective To Date']\n",
        "            )\n",
        "          ]"
      ],
      "outputs": [],
      "metadata": {
        "id": "Oh3Ld3L_riCw"
      }
    },
    {
      "cell_type": "code",
      "execution_count": null,
      "source": [
        "#distributions for all numeric variables \n",
        "for c in df_num.columns:\n",
        "    plt.hist(df_num[c])\n",
        "    plt.title(c)\n",
        "    plt.show()"
      ],
      "outputs": [
        {
          "output_type": "display_data",
          "data": {
            "image/png": "[encoded data removed]",
            "text/plain": [
              "<Figure size 432x288 with 1 Axes>"
            ]
          },
          "metadata": {
            "needs_background": "light"
          }
        },
        {
          "output_type": "display_data",
          "data": {
            "image/png": "[encoded data removed]",
            "text/plain": [
              "<Figure size 432x288 with 1 Axes>"
            ]
          },
          "metadata": {
            "needs_background": "light"
          }
        },
        {
          "output_type": "display_data",
          "data": {
            "image/png": "[encoded data removed]",
            "text/plain": [
              "<Figure size 432x288 with 1 Axes>"
            ]
          },
          "metadata": {
            "needs_background": "light"
          }
        },
        {
          "output_type": "display_data",
          "data": {
            "image/png": "[encoded data removed]",
            "text/plain": [
              "<Figure size 432x288 with 1 Axes>"
            ]
          },
          "metadata": {
            "needs_background": "light"
          }
        },
        {
          "output_type": "display_data",
          "data": {
            "image/png": "[encoded data removed]",
            "text/plain": [
              "<Figure size 432x288 with 1 Axes>"
            ]
          },
          "metadata": {
            "needs_background": "light"
          }
        },
        {
          "output_type": "display_data",
          "data": {
            "image/png": "[encoded data removed]",
            "text/plain": [
              "<Figure size 432x288 with 1 Axes>"
            ]
          },
          "metadata": {
            "needs_background": "light"
          }
        },
        {
          "output_type": "display_data",
          "data": {
            "image/png": "[encoded data removed]",
            "text/plain": [
              "<Figure size 432x288 with 1 Axes>"
            ]
          },
          "metadata": {
            "needs_background": "light"
          }
        },
        {
          "output_type": "display_data",
          "data": {
            "image/png": "[encoded data removed]",
            "text/plain": [
              "<Figure size 432x288 with 1 Axes>"
            ]
          },
          "metadata": {
            "needs_background": "light"
          }
        }
      ],
      "metadata": {
        "colab": {
          "base_uri": "https://localhost:8080/",
          "height": 1000
        },
        "id": "X34a6naQri-D",
        "outputId": "3fb8a80d-d80e-4812-b1b5-d5549c257564"
      }
    },
    {
      "cell_type": "code",
      "execution_count": null,
      "source": [
        "print(df_num.corr())\n",
        "sns.heatmap(df_num.corr(), cmap='Blues')"
      ],
      "outputs": [
        {
          "output_type": "stream",
          "name": "stdout",
          "text": [
            "                               Customer Lifetime Value  ...  Total Claim Amount\n",
            "Customer Lifetime Value                       1.000000  ...            0.226451\n",
            "Income                                        0.024366  ...           -0.355254\n",
            "Monthly Premium Auto                          0.396262  ...            0.632017\n",
            "Months Since Last Claim                       0.011517  ...            0.007563\n",
            "Months Since Policy Inception                 0.009418  ...            0.003335\n",
            "Number of Open Complaints                    -0.036343  ...           -0.014241\n",
            "Number of Policies                            0.021955  ...           -0.002354\n",
            "Total Claim Amount                            0.226451  ...            1.000000\n",
            "\n",
            "[8 rows x 8 columns]\n"
          ]
        },
        {
          "output_type": "execute_result",
          "data": {
            "text/plain": [
              "<matplotlib.axes._subplots.AxesSubplot at 0x7f2d1f456710>"
            ]
          },
          "metadata": {},
          "execution_count": 138
        },
        {
          "output_type": "display_data",
          "data": {
            "image/png": "[encoded data removed]",
            "text/plain": [
              "<Figure size 432x288 with 2 Axes>"
            ]
          },
          "metadata": {
            "needs_background": "light"
          }
        }
      ],
      "metadata": {
        "colab": {
          "base_uri": "https://localhost:8080/",
          "height": 609
        },
        "id": "AbEEKUu7sdn3",
        "outputId": "530287ad-fe1c-430e-fb59-4e8034c73137"
      }
    },
    {
      "cell_type": "code",
      "execution_count": null,
      "source": [
        "for c in df_cat.columns:\n",
        "    sns.barplot(\n",
        "        x = df_cat[c].value_counts().index, \n",
        "        y = df_cat[c].value_counts(),\n",
        "    ).set_title(c)\n",
        "    \n",
        "    plt.xticks(rotation=45)\n",
        "    plt.show()"
      ],
      "outputs": [
        {
          "output_type": "display_data",
          "data": {
            "image/png": "[encoded data removed]",
            "text/plain": [
              "<Figure size 432x288 with 1 Axes>"
            ]
          },
          "metadata": {
            "needs_background": "light"
          }
        },
        {
          "output_type": "display_data",
          "data": {
            "image/png": "[encoded data removed]",
            "text/plain": [
              "<Figure size 432x288 with 1 Axes>"
            ]
          },
          "metadata": {
            "needs_background": "light"
          }
        },
        {
          "output_type": "display_data",
          "data": {
            "image/png": "[encoded data removed]",
            "text/plain": [
              "<Figure size 432x288 with 1 Axes>"
            ]
          },
          "metadata": {
            "needs_background": "light"
          }
        },
        {
          "output_type": "display_data",
          "data": {
            "image/png": "[encoded data removed]",
            "text/plain": [
              "<Figure size 432x288 with 1 Axes>"
            ]
          },
          "metadata": {
            "needs_background": "light"
          }
        },
        {
          "output_type": "display_data",
          "data": {
            "image/png": "[encoded data removed]",
            "text/plain": [
              "<Figure size 432x288 with 1 Axes>"
            ]
          },
          "metadata": {
            "needs_background": "light"
          }
        },
        {
          "output_type": "display_data",
          "data": {
            "image/png": "[encoded data removed]",
            "text/plain": [
              "<Figure size 432x288 with 1 Axes>"
            ]
          },
          "metadata": {
            "needs_background": "light"
          }
        },
        {
          "output_type": "display_data",
          "data": {
            "image/png": "[encoded data removed]",
            "text/plain": [
              "<Figure size 432x288 with 1 Axes>"
            ]
          },
          "metadata": {
            "needs_background": "light"
          }
        },
        {
          "output_type": "display_data",
          "data": {
            "image/png": "[encoded data removed]",
            "text/plain": [
              "<Figure size 432x288 with 1 Axes>"
            ]
          },
          "metadata": {
            "needs_background": "light"
          }
        },
        {
          "output_type": "display_data",
          "data": {
            "image/png": "[encoded data removed]",
            "text/plain": [
              "<Figure size 432x288 with 1 Axes>"
            ]
          },
          "metadata": {
            "needs_background": "light"
          }
        },
        {
          "output_type": "display_data",
          "data": {
            "image/png": "[encoded data removed]",
            "text/plain": [
              "<Figure size 432x288 with 1 Axes>"
            ]
          },
          "metadata": {
            "needs_background": "light"
          }
        },
        {
          "output_type": "display_data",
          "data": {
            "image/png": "[encoded data removed]",
            "text/plain": [
              "<Figure size 432x288 with 1 Axes>"
            ]
          },
          "metadata": {
            "needs_background": "light"
          }
        },
        {
          "output_type": "display_data",
          "data": {
            "image/png": "[encoded data removed]",
            "text/plain": [
              "<Figure size 432x288 with 1 Axes>"
            ]
          },
          "metadata": {
            "needs_background": "light"
          }
        },
        {
          "output_type": "display_data",
          "data": {
            "image/png": "[encoded data removed]",
            "text/plain": [
              "<Figure size 432x288 with 1 Axes>"
            ]
          },
          "metadata": {
            "needs_background": "light"
          }
        },
        {
          "output_type": "display_data",
          "data": {
            "image/png": "[encoded data removed]",
            "text/plain": [
              "<Figure size 432x288 with 1 Axes>"
            ]
          },
          "metadata": {
            "needs_background": "light"
          }
        }
      ],
      "metadata": {
        "colab": {
          "base_uri": "https://localhost:8080/",
          "height": 1000
        },
        "id": "inpu0tKutADA",
        "outputId": "d562cf60-294b-4424-f56b-05240c399e61"
      }
    },
    {
      "cell_type": "markdown",
      "source": [
        "# Customer Analysis"
      ],
      "metadata": {
        "id": "ZoYzd4JDoLgK"
      }
    },
    {
      "cell_type": "markdown",
      "source": [
        "## Engagement Rate\n",
        "\n",
        "Column `Response` indicates that whether a customer have responded to a marketing activities. I will use this field as a measure of customer engagement.\n",
        "\n",
        "**Steps**:\n",
        "- Overall Engagement Rate\n",
        "- Engagement across Offer Types\n",
        "- Engagement across Offer Types and Vehicle Class\n",
        "- Engagement across Sales Channels\n",
        "- Engagement across Sales Channels and Vehicle Size\n",
        "- Engagement w.r.t Total Claim Amount"
      ],
      "metadata": {
        "id": "6mEzqeQLwDcJ"
      }
    },
    {
      "cell_type": "code",
      "execution_count": null,
      "source": [
        "# look through unique values of column `Response`\n",
        "df['Response'].unique()"
      ],
      "outputs": [
        {
          "output_type": "execute_result",
          "data": {
            "text/plain": [
              "array(['No', 'Yes'], dtype=object)"
            ]
          },
          "metadata": {},
          "execution_count": 140
        }
      ],
      "metadata": {
        "colab": {
          "base_uri": "https://localhost:8080/"
        },
        "id": "duk4YwemxDYN",
        "outputId": "fa432f24-e930-488c-a69c-249029b302c2"
      }
    },
    {
      "cell_type": "code",
      "execution_count": null,
      "source": [
        "# calculate overall response rate, i.e. engagement rate\n",
        "\n",
        "df['Response'] = df['Response'].apply(lambda x: 1 if x=='Yes' else 0)\n",
        "\n",
        "print(f\"Response/ Engagement rate: {df['Response'].mean() * 100} %\")"
      ],
      "outputs": [
        {
          "output_type": "stream",
          "name": "stdout",
          "text": [
            "Response/ Engagement rate: 14.320122618786948 %\n"
          ]
        }
      ],
      "metadata": {
        "colab": {
          "base_uri": "https://localhost:8080/"
        },
        "id": "C36cjy_atuOF",
        "outputId": "ec220add-7b74-442b-8baf-f52115adf5ff"
      }
    },
    {
      "cell_type": "markdown",
      "source": [
        "There are a significant amount of customers that have not responded in marketing efforts."
      ],
      "metadata": {
        "id": "YWU9I9Phy9x_"
      }
    },
    {
      "cell_type": "code",
      "execution_count": null,
      "source": [
        "# compare engagement across Renew Offer Type\n",
        "\n",
        "engagement_rate_by_offertypes_df = df.loc[\n",
        "    df['Response']==1\n",
        "].groupby(\n",
        "    'Renew Offer Type'\n",
        ").count()['Response'] / df.groupby('Renew Offer Type').count()['Response']\n",
        "\n",
        "engagement_rate_by_offertypes_df"
      ],
      "outputs": [
        {
          "output_type": "execute_result",
          "data": {
            "text/plain": [
              "Renew Offer Type\n",
              "Offer1    0.158316\n",
              "Offer2    0.233766\n",
              "Offer3    0.020950\n",
              "Offer4         NaN\n",
              "Name: Response, dtype: float64"
            ]
          },
          "metadata": {},
          "execution_count": 142
        }
      ],
      "metadata": {
        "colab": {
          "base_uri": "https://localhost:8080/"
        },
        "id": "KJ4Av2v6paZE",
        "outputId": "d67294dd-460a-4f24-82c8-c20289e9ebad"
      }
    },
    {
      "cell_type": "code",
      "execution_count": null,
      "source": [
        "# to make a easier consideration,\n",
        "# I visualize the engagement rate with a bar chart\n",
        "\n",
        "engagement_rate_by_offertypes_df.plot.bar(grid=True)"
      ],
      "outputs": [
        {
          "output_type": "execute_result",
          "data": {
            "text/plain": [
              "<matplotlib.axes._subplots.AxesSubplot at 0x7f2d1fe83150>"
            ]
          },
          "metadata": {},
          "execution_count": 143
        },
        {
          "output_type": "display_data",
          "data": {
            "image/png": "[encoded data removed]",
            "text/plain": [
              "<Figure size 432x288 with 1 Axes>"
            ]
          },
          "metadata": {
            "needs_background": "light"
          }
        }
      ],
      "metadata": {
        "colab": {
          "base_uri": "https://localhost:8080/",
          "height": 318
        },
        "id": "-lXxBdv3rffX",
        "outputId": "c4688303-49fd-4808-9983-e4831e598d29"
      }
    },
    {
      "cell_type": "markdown",
      "source": [
        "Customers with `Offer2` has the highest engagement rate (over 23%).\n",
        "Customers with `Offer3` and `Offer4` has extremely low engagement rate. "
      ],
      "metadata": {
        "id": "PL69ERc-pkcT"
      }
    },
    {
      "cell_type": "code",
      "execution_count": null,
      "source": [
        "# I want to get more deeper understand customers by\n",
        "# adding one more field `Vehicle Class` on focus\n",
        "\n",
        "engagement_rate_by_offertypes_vehicleclass_df = df.loc[\n",
        "    df['Response']==1\n",
        "].groupby(\n",
        "    ['Renew Offer Type', 'Vehicle Class']\n",
        ").count()['Response'] / df.groupby('Renew Offer Type').count()['Response']\n",
        "\n",
        "engagement_rate_by_offertypes_vehicleclass_df"
      ],
      "outputs": [
        {
          "output_type": "execute_result",
          "data": {
            "text/plain": [
              "Renew Offer Type  Vehicle Class\n",
              "Offer1            Four-Door Car    0.070362\n",
              "                  Luxury Car       0.001599\n",
              "                  Luxury SUV       0.004797\n",
              "                  SUV              0.044776\n",
              "                  Sports Car       0.011194\n",
              "                  Two-Door Car     0.025586\n",
              "Offer2            Four-Door Car    0.114833\n",
              "                  Luxury Car       0.002051\n",
              "                  Luxury SUV       0.004101\n",
              "                  SUV              0.041012\n",
              "                  Sports Car       0.016405\n",
              "                  Two-Door Car     0.055366\n",
              "Offer3            Four-Door Car    0.016760\n",
              "                  Two-Door Car     0.004190\n",
              "Name: Response, dtype: float64"
            ]
          },
          "metadata": {},
          "execution_count": 144
        }
      ],
      "metadata": {
        "colab": {
          "base_uri": "https://localhost:8080/"
        },
        "id": "aZX2fAP5sYqS",
        "outputId": "cc565176-6466-4c87-bb27-8b79d73c054e"
      }
    },
    {
      "cell_type": "code",
      "execution_count": null,
      "source": [
        "# transform results to a more readable one\n",
        "engagement_rate_by_offertypes_vehicleclass_df = engagement_rate_by_offertypes_vehicleclass_df.unstack().fillna(0)\n",
        "engagement_rate_by_offertypes_vehicleclass_df"
      ],
      "outputs": [
        {
          "output_type": "execute_result",
          "data": {
            "text/html": [
              "<div>\n",
              "<style scoped>\n",
              "    .dataframe tbody tr th:only-of-type {\n",
              "        vertical-align: middle;\n",
              "    }\n",
              "\n",
              "    .dataframe tbody tr th {\n",
              "        vertical-align: top;\n",
              "    }\n",
              "\n",
              "    .dataframe thead th {\n",
              "        text-align: right;\n",
              "    }\n",
              "</style>\n",
              "<table border=\"1\" class=\"dataframe\">\n",
              "  <thead>\n",
              "    <tr style=\"text-align: right;\">\n",
              "      <th>Vehicle Class</th>\n",
              "      <th>Four-Door Car</th>\n",
              "      <th>Luxury Car</th>\n",
              "      <th>Luxury SUV</th>\n",
              "      <th>SUV</th>\n",
              "      <th>Sports Car</th>\n",
              "      <th>Two-Door Car</th>\n",
              "    </tr>\n",
              "    <tr>\n",
              "      <th>Renew Offer Type</th>\n",
              "      <th></th>\n",
              "      <th></th>\n",
              "      <th></th>\n",
              "      <th></th>\n",
              "      <th></th>\n",
              "      <th></th>\n",
              "    </tr>\n",
              "  </thead>\n",
              "  <tbody>\n",
              "    <tr>\n",
              "      <th>Offer1</th>\n",
              "      <td>0.070362</td>\n",
              "      <td>0.001599</td>\n",
              "      <td>0.004797</td>\n",
              "      <td>0.044776</td>\n",
              "      <td>0.011194</td>\n",
              "      <td>0.025586</td>\n",
              "    </tr>\n",
              "    <tr>\n",
              "      <th>Offer2</th>\n",
              "      <td>0.114833</td>\n",
              "      <td>0.002051</td>\n",
              "      <td>0.004101</td>\n",
              "      <td>0.041012</td>\n",
              "      <td>0.016405</td>\n",
              "      <td>0.055366</td>\n",
              "    </tr>\n",
              "    <tr>\n",
              "      <th>Offer3</th>\n",
              "      <td>0.016760</td>\n",
              "      <td>0.000000</td>\n",
              "      <td>0.000000</td>\n",
              "      <td>0.000000</td>\n",
              "      <td>0.000000</td>\n",
              "      <td>0.004190</td>\n",
              "    </tr>\n",
              "  </tbody>\n",
              "</table>\n",
              "</div>"
            ],
            "text/plain": [
              "Vehicle Class     Four-Door Car  Luxury Car  ...  Sports Car  Two-Door Car\n",
              "Renew Offer Type                             ...                          \n",
              "Offer1                 0.070362    0.001599  ...    0.011194      0.025586\n",
              "Offer2                 0.114833    0.002051  ...    0.016405      0.055366\n",
              "Offer3                 0.016760    0.000000  ...    0.000000      0.004190\n",
              "\n",
              "[3 rows x 6 columns]"
            ]
          },
          "metadata": {},
          "execution_count": 145
        }
      ],
      "metadata": {
        "colab": {
          "base_uri": "https://localhost:8080/",
          "height": 172
        },
        "id": "wF_HGoTvvXr-",
        "outputId": "83637538-7bea-47a1-8214-5c7012c0b499"
      }
    },
    {
      "cell_type": "code",
      "execution_count": null,
      "source": [
        "# visualize\n",
        "engagement_rate_by_offertypes_vehicleclass_df.plot.bar(figsize=(15,6), grid=True)"
      ],
      "outputs": [
        {
          "output_type": "execute_result",
          "data": {
            "text/plain": [
              "<matplotlib.axes._subplots.AxesSubplot at 0x7f2d1f8a3f90>"
            ]
          },
          "metadata": {},
          "execution_count": 146
        },
        {
          "output_type": "display_data",
          "data": {
            "image/png": "[encoded data removed]",
            "text/plain": [
              "<Figure size 1080x432 with 1 Axes>"
            ]
          },
          "metadata": {
            "needs_background": "light"
          }
        }
      ],
      "metadata": {
        "colab": {
          "base_uri": "https://localhost:8080/",
          "height": 429
        },
        "id": "nrCgoIE_xAwb",
        "outputId": "222d252d-e685-4f66-c807-649bda4f7bcc"
      }
    },
    {
      "cell_type": "code",
      "execution_count": null,
      "source": [
        "# compare engagement across channel sales\n",
        "engagement_rate_by_saleschannel = df.loc[\n",
        "    df['Response'] == 1\n",
        "].groupby([\n",
        "    'Sales Channel'\n",
        "]).count()['Response']/df.groupby('Sales Channel').count()['Response']\n",
        "\n",
        "engagement_rate_by_saleschannel"
      ],
      "outputs": [
        {
          "output_type": "execute_result",
          "data": {
            "text/plain": [
              "Sales Channel\n",
              "Agent          0.191544\n",
              "Branch         0.114531\n",
              "Call Center    0.108782\n",
              "Web            0.117736\n",
              "Name: Response, dtype: float64"
            ]
          },
          "metadata": {},
          "execution_count": 167
        }
      ],
      "metadata": {
        "colab": {
          "base_uri": "https://localhost:8080/"
        },
        "id": "nyuDhyn9yIrJ",
        "outputId": "489fc64a-3348-42a1-e641-d2236b9f5485"
      }
    },
    {
      "cell_type": "code",
      "execution_count": null,
      "source": [
        "# visualize\n",
        "engagement_rate_by_saleschannel.plot.bar(grid=True)"
      ],
      "outputs": [
        {
          "output_type": "execute_result",
          "data": {
            "text/plain": [
              "<matplotlib.axes._subplots.AxesSubplot at 0x7f2d1f1d3550>"
            ]
          },
          "metadata": {},
          "execution_count": 168
        },
        {
          "output_type": "display_data",
          "data": {
            "image/png": "[encoded data removed]",
            "text/plain": [
              "<Figure size 432x288 with 1 Axes>"
            ]
          },
          "metadata": {
            "needs_background": "light"
          }
        }
      ],
      "metadata": {
        "colab": {
          "base_uri": "https://localhost:8080/",
          "height": 345
        },
        "id": "BvVwHM6hyzIO",
        "outputId": "812b6413-12a4-45a8-f259-cdeefffc532c"
      }
    },
    {
      "cell_type": "code",
      "execution_count": null,
      "source": [
        "# look at the distribution of engagement across Total Claim Amount\n",
        "df[['Response', 'Total Claim Amount']].boxplot(\n",
        "    by='Response',\n",
        "    showfliers=False,\n",
        "    figsize=(15,6)\n",
        ")"
      ],
      "outputs": [
        {
          "output_type": "stream",
          "name": "stderr",
          "text": [
            "/usr/local/lib/python3.7/dist-packages/numpy/core/_asarray.py:83: VisibleDeprecationWarning: Creating an ndarray from ragged nested sequences (which is a list-or-tuple of lists-or-tuples-or ndarrays with different lengths or shapes) is deprecated. If you meant to do this, you must specify 'dtype=object' when creating the ndarray\n",
            "  return array(a, dtype, copy=False, order=order)\n"
          ]
        },
        {
          "output_type": "execute_result",
          "data": {
            "text/plain": [
              "<matplotlib.axes._subplots.AxesSubplot at 0x7f2d1f67c7d0>"
            ]
          },
          "metadata": {},
          "execution_count": 150
        },
        {
          "output_type": "display_data",
          "data": {
            "image/png": "[encoded data removed]",
            "text/plain": [
              "<Figure size 1080x432 with 1 Axes>"
            ]
          },
          "metadata": {
            "needs_background": "light"
          }
        }
      ],
      "metadata": {
        "colab": {
          "base_uri": "https://localhost:8080/",
          "height": 490
        },
        "id": "HCawcBw03-q7",
        "outputId": "283d1851-ba40-4d47-e952-495d9a229765"
      }
    },
    {
      "cell_type": "code",
      "execution_count": null,
      "source": [
        "# look at the distribution of engagement across Total Claim Amount\n",
        "df[['Response', 'Total Claim Amount']].boxplot(\n",
        "    by='Response',\n",
        "    showfliers=True,\n",
        "    figsize=(15,6)\n",
        ")"
      ],
      "outputs": [
        {
          "output_type": "stream",
          "name": "stderr",
          "text": [
            "/usr/local/lib/python3.7/dist-packages/numpy/core/_asarray.py:83: VisibleDeprecationWarning: Creating an ndarray from ragged nested sequences (which is a list-or-tuple of lists-or-tuples-or ndarrays with different lengths or shapes) is deprecated. If you meant to do this, you must specify 'dtype=object' when creating the ndarray\n",
            "  return array(a, dtype, copy=False, order=order)\n"
          ]
        },
        {
          "output_type": "execute_result",
          "data": {
            "text/plain": [
              "<matplotlib.axes._subplots.AxesSubplot at 0x7f2d1f76c290>"
            ]
          },
          "metadata": {},
          "execution_count": 151
        },
        {
          "output_type": "display_data",
          "data": {
            "image/png": "[encoded data removed]",
            "text/plain": [
              "<Figure size 1080x432 with 1 Axes>"
            ]
          },
          "metadata": {
            "needs_background": "light"
          }
        }
      ],
      "metadata": {
        "colab": {
          "base_uri": "https://localhost:8080/",
          "height": 490
        },
        "id": "G9ER4JcI5Xoe",
        "outputId": "9809f5da-ed27-4249-b780-d7cc4b4e497b"
      }
    },
    {
      "cell_type": "markdown",
      "source": [
        "## Regression Analysis\n",
        "\n",
        "I focus on customer engagement. So, my target variables will be `Response`.\n",
        "- Build a logistic models with numeric continous variables.\n",
        "- Build a logistic models with categorical variables."
      ],
      "metadata": {
        "id": "xYjUU8QGQ1En"
      }
    },
    {
      "cell_type": "code",
      "execution_count": null,
      "source": [
        "df_num.columns"
      ],
      "outputs": [
        {
          "output_type": "execute_result",
          "data": {
            "text/plain": [
              "Index(['Customer Lifetime Value', 'Income', 'Monthly Premium Auto',\n",
              "       'Months Since Last Claim', 'Months Since Policy Inception',\n",
              "       'Number of Open Complaints', 'Number of Policies',\n",
              "       'Total Claim Amount'],\n",
              "      dtype='object')"
            ]
          },
          "metadata": {},
          "execution_count": 153
        }
      ],
      "metadata": {
        "colab": {
          "base_uri": "https://localhost:8080/"
        },
        "id": "ZNPaC8MSRR3D",
        "outputId": "c852380f-20cb-4a2d-9e87-b5b45d7ba11f"
      }
    },
    {
      "cell_type": "code",
      "execution_count": null,
      "source": [
        "df_cat.columns"
      ],
      "outputs": [
        {
          "output_type": "execute_result",
          "data": {
            "text/plain": [
              "Index(['Coverage', 'Education', 'EmploymentStatus', 'Gender', 'Location Code',\n",
              "       'Marital Status', 'Policy', 'Policy Type', 'Renew Offer Type',\n",
              "       'Response', 'Sales Channel', 'State', 'Vehicle Class', 'Vehicle Size'],\n",
              "      dtype='object')"
            ]
          },
          "metadata": {},
          "execution_count": 156
        }
      ],
      "metadata": {
        "colab": {
          "base_uri": "https://localhost:8080/"
        },
        "id": "8Ok9RfDGZbVs",
        "outputId": "871835d4-6351-4af6-ede1-9f97f324ca9d"
      }
    },
    {
      "cell_type": "code",
      "execution_count": null,
      "source": [
        "for c in df_cat.columns.difference(['Response']):\n",
        "  unique_values = df[c].unique()\n",
        "  print(f\"df['{c}'],\\ncategories={unique_values},\")\n",
        "  print()"
      ],
      "outputs": [
        {
          "output_type": "stream",
          "name": "stdout",
          "text": [
            "df['Coverage'],\n",
            "categories=['Basic' 'Extended' 'Premium'],\n",
            "\n",
            "df['Education'],\n",
            "categories=['Bachelor' 'College' 'Master' 'High School or Below' 'Doctor'],\n",
            "\n",
            "df['EmploymentStatus'],\n",
            "categories=['Employed' 'Unemployed' 'Medical Leave' 'Disabled' 'Retired'],\n",
            "\n",
            "df['Gender'],\n",
            "categories=['F' 'M'],\n",
            "\n",
            "df['Location Code'],\n",
            "categories=['Suburban' 'Rural' 'Urban'],\n",
            "\n",
            "df['Marital Status'],\n",
            "categories=['Married' 'Single' 'Divorced'],\n",
            "\n",
            "df['Policy'],\n",
            "categories=['Corporate L3' 'Personal L3' 'Corporate L2' 'Personal L1' 'Special L2'\n",
            " 'Corporate L1' 'Personal L2' 'Special L1' 'Special L3'],\n",
            "\n",
            "df['Policy Type'],\n",
            "categories=['Corporate Auto' 'Personal Auto' 'Special Auto'],\n",
            "\n",
            "df['Renew Offer Type'],\n",
            "categories=['Offer1' 'Offer3' 'Offer2' 'Offer4'],\n",
            "\n",
            "df['Sales Channel'],\n",
            "categories=['Agent' 'Call Center' 'Web' 'Branch'],\n",
            "\n",
            "df['State'],\n",
            "categories=['Washington' 'Arizona' 'Nevada' 'California' 'Oregon'],\n",
            "\n",
            "df['Vehicle Class'],\n",
            "categories=['Two-Door Car' 'Four-Door Car' 'SUV' 'Luxury SUV' 'Sports Car'\n",
            " 'Luxury Car'],\n",
            "\n",
            "df['Vehicle Size'],\n",
            "categories=['Medsize' 'Small' 'Large'],\n",
            "\n"
          ]
        }
      ],
      "metadata": {
        "colab": {
          "base_uri": "https://localhost:8080/"
        },
        "id": "RFV9BPf3XHQu",
        "outputId": "1f64b63b-3dd6-4293-c3c0-32d5d5f12509"
      }
    },
    {
      "cell_type": "code",
      "execution_count": null,
      "source": [
        "cat = pd.Categorical(\n",
        "    df['Coverage'], \n",
        "    categories=['Basic', 'Extended', 'Premium'],\n",
        ")\n",
        "\n",
        "df['CoverageFactorized'] = cat.codes"
      ],
      "outputs": [],
      "metadata": {
        "id": "7N7FXmkNXSKB"
      }
    },
    {
      "cell_type": "code",
      "execution_count": null,
      "source": [
        "cat = pd.Categorical(\n",
        "    df['Education'], \n",
        "    categories=['High School or Below', 'Bachelor', 'College', 'Master', 'Doctor']\n",
        ")\n",
        "\n",
        "df['EducationFactorized'] = cat.codes"
      ],
      "outputs": [],
      "metadata": {
        "id": "j3OCyBABWrGD"
      }
    },
    {
      "cell_type": "code",
      "execution_count": null,
      "source": [
        "df = pd.get_dummies(df, columns=['EmploymentStatus'])"
      ],
      "outputs": [],
      "metadata": {
        "id": "aKxp_R0aYBOU"
      }
    },
    {
      "cell_type": "code",
      "execution_count": null,
      "source": [
        "cat = pd.Categorical(\n",
        "    df['Gender'],\n",
        "    categories=['F', 'M'],\n",
        ")\n",
        "\n",
        "df['GenderFactorized'] = cat.codes"
      ],
      "outputs": [],
      "metadata": {
        "id": "ZEjtzyzMaPQK"
      }
    },
    {
      "cell_type": "code",
      "execution_count": null,
      "source": [
        "df.head()"
      ],
      "outputs": [
        {
          "output_type": "execute_result",
          "data": {
            "text/html": [
              "<div>\n",
              "<style scoped>\n",
              "    .dataframe tbody tr th:only-of-type {\n",
              "        vertical-align: middle;\n",
              "    }\n",
              "\n",
              "    .dataframe tbody tr th {\n",
              "        vertical-align: top;\n",
              "    }\n",
              "\n",
              "    .dataframe thead th {\n",
              "        text-align: right;\n",
              "    }\n",
              "</style>\n",
              "<table border=\"1\" class=\"dataframe\">\n",
              "  <thead>\n",
              "    <tr style=\"text-align: right;\">\n",
              "      <th></th>\n",
              "      <th>Customer</th>\n",
              "      <th>State</th>\n",
              "      <th>Customer Lifetime Value</th>\n",
              "      <th>Response</th>\n",
              "      <th>Coverage</th>\n",
              "      <th>Education</th>\n",
              "      <th>Effective To Date</th>\n",
              "      <th>Gender</th>\n",
              "      <th>Income</th>\n",
              "      <th>Location Code</th>\n",
              "      <th>Marital Status</th>\n",
              "      <th>Monthly Premium Auto</th>\n",
              "      <th>Months Since Last Claim</th>\n",
              "      <th>Months Since Policy Inception</th>\n",
              "      <th>Number of Open Complaints</th>\n",
              "      <th>Number of Policies</th>\n",
              "      <th>Policy Type</th>\n",
              "      <th>Policy</th>\n",
              "      <th>Renew Offer Type</th>\n",
              "      <th>Sales Channel</th>\n",
              "      <th>Total Claim Amount</th>\n",
              "      <th>Vehicle Class</th>\n",
              "      <th>Vehicle Size</th>\n",
              "      <th>CoverageFactorized</th>\n",
              "      <th>EducationFactorized</th>\n",
              "      <th>EmploymentStatus_Disabled</th>\n",
              "      <th>EmploymentStatus_Employed</th>\n",
              "      <th>EmploymentStatus_Medical Leave</th>\n",
              "      <th>EmploymentStatus_Retired</th>\n",
              "      <th>EmploymentStatus_Unemployed</th>\n",
              "      <th>GenderFactorized</th>\n",
              "    </tr>\n",
              "  </thead>\n",
              "  <tbody>\n",
              "    <tr>\n",
              "      <th>0</th>\n",
              "      <td>BU79786</td>\n",
              "      <td>Washington</td>\n",
              "      <td>2763.519279</td>\n",
              "      <td>0</td>\n",
              "      <td>Basic</td>\n",
              "      <td>Bachelor</td>\n",
              "      <td>2/24/11</td>\n",
              "      <td>F</td>\n",
              "      <td>56274</td>\n",
              "      <td>Suburban</td>\n",
              "      <td>Married</td>\n",
              "      <td>69</td>\n",
              "      <td>32</td>\n",
              "      <td>5</td>\n",
              "      <td>0</td>\n",
              "      <td>1</td>\n",
              "      <td>Corporate Auto</td>\n",
              "      <td>Corporate L3</td>\n",
              "      <td>Offer1</td>\n",
              "      <td>Agent</td>\n",
              "      <td>384.811147</td>\n",
              "      <td>Two-Door Car</td>\n",
              "      <td>Medsize</td>\n",
              "      <td>0</td>\n",
              "      <td>1</td>\n",
              "      <td>0</td>\n",
              "      <td>1</td>\n",
              "      <td>0</td>\n",
              "      <td>0</td>\n",
              "      <td>0</td>\n",
              "      <td>0</td>\n",
              "    </tr>\n",
              "    <tr>\n",
              "      <th>1</th>\n",
              "      <td>QZ44356</td>\n",
              "      <td>Arizona</td>\n",
              "      <td>6979.535903</td>\n",
              "      <td>0</td>\n",
              "      <td>Extended</td>\n",
              "      <td>Bachelor</td>\n",
              "      <td>1/31/11</td>\n",
              "      <td>F</td>\n",
              "      <td>0</td>\n",
              "      <td>Suburban</td>\n",
              "      <td>Single</td>\n",
              "      <td>94</td>\n",
              "      <td>13</td>\n",
              "      <td>42</td>\n",
              "      <td>0</td>\n",
              "      <td>8</td>\n",
              "      <td>Personal Auto</td>\n",
              "      <td>Personal L3</td>\n",
              "      <td>Offer3</td>\n",
              "      <td>Agent</td>\n",
              "      <td>1131.464935</td>\n",
              "      <td>Four-Door Car</td>\n",
              "      <td>Medsize</td>\n",
              "      <td>1</td>\n",
              "      <td>1</td>\n",
              "      <td>0</td>\n",
              "      <td>0</td>\n",
              "      <td>0</td>\n",
              "      <td>0</td>\n",
              "      <td>1</td>\n",
              "      <td>0</td>\n",
              "    </tr>\n",
              "    <tr>\n",
              "      <th>2</th>\n",
              "      <td>AI49188</td>\n",
              "      <td>Nevada</td>\n",
              "      <td>12887.431650</td>\n",
              "      <td>0</td>\n",
              "      <td>Premium</td>\n",
              "      <td>Bachelor</td>\n",
              "      <td>2/19/11</td>\n",
              "      <td>F</td>\n",
              "      <td>48767</td>\n",
              "      <td>Suburban</td>\n",
              "      <td>Married</td>\n",
              "      <td>108</td>\n",
              "      <td>18</td>\n",
              "      <td>38</td>\n",
              "      <td>0</td>\n",
              "      <td>2</td>\n",
              "      <td>Personal Auto</td>\n",
              "      <td>Personal L3</td>\n",
              "      <td>Offer1</td>\n",
              "      <td>Agent</td>\n",
              "      <td>566.472247</td>\n",
              "      <td>Two-Door Car</td>\n",
              "      <td>Medsize</td>\n",
              "      <td>2</td>\n",
              "      <td>1</td>\n",
              "      <td>0</td>\n",
              "      <td>1</td>\n",
              "      <td>0</td>\n",
              "      <td>0</td>\n",
              "      <td>0</td>\n",
              "      <td>0</td>\n",
              "    </tr>\n",
              "    <tr>\n",
              "      <th>3</th>\n",
              "      <td>WW63253</td>\n",
              "      <td>California</td>\n",
              "      <td>7645.861827</td>\n",
              "      <td>0</td>\n",
              "      <td>Basic</td>\n",
              "      <td>Bachelor</td>\n",
              "      <td>1/20/11</td>\n",
              "      <td>M</td>\n",
              "      <td>0</td>\n",
              "      <td>Suburban</td>\n",
              "      <td>Married</td>\n",
              "      <td>106</td>\n",
              "      <td>18</td>\n",
              "      <td>65</td>\n",
              "      <td>0</td>\n",
              "      <td>7</td>\n",
              "      <td>Corporate Auto</td>\n",
              "      <td>Corporate L2</td>\n",
              "      <td>Offer1</td>\n",
              "      <td>Call Center</td>\n",
              "      <td>529.881344</td>\n",
              "      <td>SUV</td>\n",
              "      <td>Medsize</td>\n",
              "      <td>0</td>\n",
              "      <td>1</td>\n",
              "      <td>0</td>\n",
              "      <td>0</td>\n",
              "      <td>0</td>\n",
              "      <td>0</td>\n",
              "      <td>1</td>\n",
              "      <td>1</td>\n",
              "    </tr>\n",
              "    <tr>\n",
              "      <th>4</th>\n",
              "      <td>HB64268</td>\n",
              "      <td>Washington</td>\n",
              "      <td>2813.692575</td>\n",
              "      <td>0</td>\n",
              "      <td>Basic</td>\n",
              "      <td>Bachelor</td>\n",
              "      <td>2/3/11</td>\n",
              "      <td>M</td>\n",
              "      <td>43836</td>\n",
              "      <td>Rural</td>\n",
              "      <td>Single</td>\n",
              "      <td>73</td>\n",
              "      <td>12</td>\n",
              "      <td>44</td>\n",
              "      <td>0</td>\n",
              "      <td>1</td>\n",
              "      <td>Personal Auto</td>\n",
              "      <td>Personal L1</td>\n",
              "      <td>Offer1</td>\n",
              "      <td>Agent</td>\n",
              "      <td>138.130879</td>\n",
              "      <td>Four-Door Car</td>\n",
              "      <td>Medsize</td>\n",
              "      <td>0</td>\n",
              "      <td>1</td>\n",
              "      <td>0</td>\n",
              "      <td>1</td>\n",
              "      <td>0</td>\n",
              "      <td>0</td>\n",
              "      <td>0</td>\n",
              "      <td>1</td>\n",
              "    </tr>\n",
              "  </tbody>\n",
              "</table>\n",
              "</div>"
            ],
            "text/plain": [
              "  Customer       State  ...  EmploymentStatus_Unemployed  GenderFactorized\n",
              "0  BU79786  Washington  ...                            0                 0\n",
              "1  QZ44356     Arizona  ...                            1                 0\n",
              "2  AI49188      Nevada  ...                            0                 0\n",
              "3  WW63253  California  ...                            1                 1\n",
              "4  HB64268  Washington  ...                            0                 1\n",
              "\n",
              "[5 rows x 31 columns]"
            ]
          },
          "metadata": {},
          "execution_count": 162
        }
      ],
      "metadata": {
        "colab": {
          "base_uri": "https://localhost:8080/",
          "height": 425
        },
        "id": "jZLE12HJa_iO",
        "outputId": "cb1c5bae-28d8-48ba-da44-fb8d617727a9"
      }
    },
    {
      "cell_type": "code",
      "execution_count": null,
      "source": [
        "logistic_model = sm.Logit(\n",
        "    df['Response'],\n",
        "    df[\n",
        "       list(df_num.columns) + ['CoverageFactorized', 'EducationFactorized', 'GenderFactorized']\n",
        "    ],\n",
        ").fit()"
      ],
      "outputs": [
        {
          "output_type": "stream",
          "name": "stdout",
          "text": [
            "Optimization terminated successfully.\n",
            "         Current function value: 0.420629\n",
            "         Iterations 6\n"
          ]
        }
      ],
      "metadata": {
        "colab": {
          "base_uri": "https://localhost:8080/"
        },
        "id": "u-vsFSkNbCsG",
        "outputId": "357ba75e-c909-479f-fb39-007d061aa8a9"
      }
    },
    {
      "cell_type": "code",
      "execution_count": null,
      "source": [
        "logistic_model.summary()"
      ],
      "outputs": [
        {
          "output_type": "execute_result",
          "data": {
            "text/html": [
              "<table class=\"simpletable\">\n",
              "<caption>Logit Regression Results</caption>\n",
              "<tr>\n",
              "  <th>Dep. Variable:</th>       <td>Response</td>     <th>  No. Observations:  </th>  <td>  9134</td> \n",
              "</tr>\n",
              "<tr>\n",
              "  <th>Model:</th>                 <td>Logit</td>      <th>  Df Residuals:      </th>  <td>  9123</td> \n",
              "</tr>\n",
              "<tr>\n",
              "  <th>Method:</th>                 <td>MLE</td>       <th>  Df Model:          </th>  <td>    10</td> \n",
              "</tr>\n",
              "<tr>\n",
              "  <th>Date:</th>            <td>Wed, 06 Oct 2021</td> <th>  Pseudo R-squ.:     </th> <td>-0.02409</td>\n",
              "</tr>\n",
              "<tr>\n",
              "  <th>Time:</th>                <td>08:43:57</td>     <th>  Log-Likelihood:    </th> <td> -3842.0</td>\n",
              "</tr>\n",
              "<tr>\n",
              "  <th>converged:</th>             <td>True</td>       <th>  LL-Null:           </th> <td> -3751.6</td>\n",
              "</tr>\n",
              "<tr>\n",
              "  <th>Covariance Type:</th>     <td>nonrobust</td>    <th>  LLR p-value:       </th>  <td> 1.000</td> \n",
              "</tr>\n",
              "</table>\n",
              "<table class=\"simpletable\">\n",
              "<tr>\n",
              "                <td></td>                   <th>coef</th>     <th>std err</th>      <th>z</th>      <th>P>|z|</th>  <th>[0.025</th>    <th>0.975]</th>  \n",
              "</tr>\n",
              "<tr>\n",
              "  <th>Customer Lifetime Value</th>       <td>-6.729e-06</td> <td> 5.04e-06</td> <td>   -1.336</td> <td> 0.182</td> <td>-1.66e-05</td> <td> 3.15e-06</td>\n",
              "</tr>\n",
              "<tr>\n",
              "  <th>Income</th>                        <td>-2.471e-06</td> <td> 1.04e-06</td> <td>   -2.375</td> <td> 0.018</td> <td>-4.51e-06</td> <td>-4.31e-07</td>\n",
              "</tr>\n",
              "<tr>\n",
              "  <th>Monthly Premium Auto</th>          <td>   -0.0090</td> <td>    0.001</td> <td>   -6.722</td> <td> 0.000</td> <td>   -0.012</td> <td>   -0.006</td>\n",
              "</tr>\n",
              "<tr>\n",
              "  <th>Months Since Last Claim</th>       <td>   -0.0191</td> <td>    0.003</td> <td>   -6.741</td> <td> 0.000</td> <td>   -0.025</td> <td>   -0.014</td>\n",
              "</tr>\n",
              "<tr>\n",
              "  <th>Months Since Policy Inception</th> <td>   -0.0056</td> <td>    0.001</td> <td>   -5.664</td> <td> 0.000</td> <td>   -0.007</td> <td>   -0.004</td>\n",
              "</tr>\n",
              "<tr>\n",
              "  <th>Number of Open Complaints</th>     <td>   -0.0798</td> <td>    0.034</td> <td>   -2.333</td> <td> 0.020</td> <td>   -0.147</td> <td>   -0.013</td>\n",
              "</tr>\n",
              "<tr>\n",
              "  <th>Number of Policies</th>            <td>   -0.0766</td> <td>    0.013</td> <td>   -5.989</td> <td> 0.000</td> <td>   -0.102</td> <td>   -0.052</td>\n",
              "</tr>\n",
              "<tr>\n",
              "  <th>Total Claim Amount</th>            <td>    0.0002</td> <td>    0.000</td> <td>    1.006</td> <td> 0.314</td> <td>   -0.000</td> <td>    0.000</td>\n",
              "</tr>\n",
              "<tr>\n",
              "  <th>CoverageFactorized</th>            <td>    0.0946</td> <td>    0.052</td> <td>    1.827</td> <td> 0.068</td> <td>   -0.007</td> <td>    0.196</td>\n",
              "</tr>\n",
              "<tr>\n",
              "  <th>EducationFactorized</th>           <td>   -0.0042</td> <td>    0.027</td> <td>   -0.157</td> <td> 0.875</td> <td>   -0.057</td> <td>    0.048</td>\n",
              "</tr>\n",
              "<tr>\n",
              "  <th>GenderFactorized</th>              <td>   -0.1448</td> <td>    0.058</td> <td>   -2.498</td> <td> 0.012</td> <td>   -0.258</td> <td>   -0.031</td>\n",
              "</tr>\n",
              "</table>"
            ],
            "text/plain": [
              "<class 'statsmodels.iolib.summary.Summary'>\n",
              "\"\"\"\n",
              "                           Logit Regression Results                           \n",
              "==============================================================================\n",
              "Dep. Variable:               Response   No. Observations:                 9134\n",
              "Model:                          Logit   Df Residuals:                     9123\n",
              "Method:                           MLE   Df Model:                           10\n",
              "Date:                Wed, 06 Oct 2021   Pseudo R-squ.:                -0.02409\n",
              "Time:                        08:43:57   Log-Likelihood:                -3842.0\n",
              "converged:                       True   LL-Null:                       -3751.6\n",
              "Covariance Type:            nonrobust   LLR p-value:                     1.000\n",
              "=================================================================================================\n",
              "                                    coef    std err          z      P>|z|      [0.025      0.975]\n",
              "-------------------------------------------------------------------------------------------------\n",
              "Customer Lifetime Value       -6.729e-06   5.04e-06     -1.336      0.182   -1.66e-05    3.15e-06\n",
              "Income                        -2.471e-06   1.04e-06     -2.375      0.018   -4.51e-06   -4.31e-07\n",
              "Monthly Premium Auto             -0.0090      0.001     -6.722      0.000      -0.012      -0.006\n",
              "Months Since Last Claim          -0.0191      0.003     -6.741      0.000      -0.025      -0.014\n",
              "Months Since Policy Inception    -0.0056      0.001     -5.664      0.000      -0.007      -0.004\n",
              "Number of Open Complaints        -0.0798      0.034     -2.333      0.020      -0.147      -0.013\n",
              "Number of Policies               -0.0766      0.013     -5.989      0.000      -0.102      -0.052\n",
              "Total Claim Amount                0.0002      0.000      1.006      0.314      -0.000       0.000\n",
              "CoverageFactorized                0.0946      0.052      1.827      0.068      -0.007       0.196\n",
              "EducationFactorized              -0.0042      0.027     -0.157      0.875      -0.057       0.048\n",
              "GenderFactorized                 -0.1448      0.058     -2.498      0.012      -0.258      -0.031\n",
              "=================================================================================================\n",
              "\"\"\""
            ]
          },
          "metadata": {},
          "execution_count": 164
        }
      ],
      "metadata": {
        "colab": {
          "base_uri": "https://localhost:8080/",
          "height": 425
        },
        "id": "NZVYwkX5bk36",
        "outputId": "f2c35877-8859-4f05-ba47-70d5b013ff98"
      }
    },
    {
      "cell_type": "markdown",
      "source": [
        "Based on p-value, five attributes `Income`, `Monthly Premium Auto`, `Months Since Last Claim`, `Months Since Policy Inception`, `Number of Policies`, and `Gender` have strong/ significant relationship with the target variable `Response`. In order words, those attributes strongly reflect the ability whether a customer will engage in marketing efforts. Male customers are less likely to engage with marketing calls than female customers. All those relationships are negative"
      ],
      "metadata": {
        "id": "n4yISQiATlVh"
      }
    }
  ]
}